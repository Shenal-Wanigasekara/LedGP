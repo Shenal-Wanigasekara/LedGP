{
  "nbformat": 4,
  "nbformat_minor": 0,
  "metadata": {
    "colab": {
      "name": "Copy of Python-String Objects.ipynb",
      "provenance": [],
      "collapsed_sections": [],
      "authorship_tag": "ABX9TyM6gyMRUokNZbO2gANm5qsQ",
      "include_colab_link": true
    },
    "kernelspec": {
      "name": "python3",
      "display_name": "Python 3"
    },
    "language_info": {
      "name": "python"
    }
  },
  "cells": [
    {
      "cell_type": "markdown",
      "metadata": {
        "id": "view-in-github",
        "colab_type": "text"
      },
      "source": [
        "<a href=\"https://colab.research.google.com/github/Shenal-Wanigasekara/LedGP/blob/main/Python_String_Objects.ipynb\" target=\"_parent\"><img src=\"https://colab.research.google.com/assets/colab-badge.svg\" alt=\"Open In Colab\"/></a>"
      ]
    },
    {
      "cell_type": "markdown",
      "metadata": {
        "id": "83tbSPeFjSzF"
      },
      "source": [
        "Python - String Objects\n"
      ]
    },
    {
      "cell_type": "markdown",
      "metadata": {
        "id": "ni7ZvkovjcPk"
      },
      "source": [
        "Python has several built-in functions associated with the string data type. These functions let us easily modify and manipulate strings.\n"
      ]
    },
    {
      "cell_type": "markdown",
      "metadata": {
        "id": "yv-AsWr_kYlT"
      },
      "source": [
        "**rfind() Method**\n",
        "\n",
        "Definition and Usage\n",
        "\n",
        "This method finds the last occurrence of the specified value. It is returns -1 if the value is not found. The rfind() method is almost the same as the rindex() method. See example below."
      ]
    },
    {
      "cell_type": "code",
      "metadata": {
        "colab": {
          "base_uri": "https://localhost:8080/"
        },
        "id": "nPYBguHVmufg",
        "outputId": "44c159d3-2e08-4b3d-f319-34d1165acb7a"
      },
      "source": [
        "txt = \"Hi all, My University is KCGI.\"\n",
        "\n",
        "x = txt.rfind(\"is\")\n",
        "\n",
        "print(x)\n",
        "\n",
        "y = txt.rindex(\"is\")\n",
        "\n",
        "print(y)"
      ],
      "execution_count": null,
      "outputs": [
        {
          "output_type": "stream",
          "text": [
            "22\n",
            "22\n"
          ],
          "name": "stdout"
        }
      ]
    },
    {
      "cell_type": "markdown",
      "metadata": {
        "id": "iwaeop5ioMfn"
      },
      "source": [
        "**String zfill() Method**\n",
        "\n",
        "Definition and Usage\n",
        "\n",
        "The zfill() method adds zeros (0) at the beginning of the string, until it reaches the specified length. If the value of the len parameter is less than the length of the string, no filling is done."
      ]
    },
    {
      "cell_type": "code",
      "metadata": {
        "colab": {
          "base_uri": "https://localhost:8080/"
        },
        "id": "i2uiajSBoycO",
        "outputId": "f2a342e1-447c-4e19-8543-0c43d418fdcf"
      },
      "source": [
        "txt = \"27\"\n",
        "\n",
        "x = txt.zfill(10)\n",
        "\n",
        "print(x)"
      ],
      "execution_count": null,
      "outputs": [
        {
          "output_type": "stream",
          "text": [
            "0000000027\n"
          ],
          "name": "stdout"
        }
      ]
    },
    {
      "cell_type": "markdown",
      "metadata": {
        "id": "K5LDRtQ0pkOO"
      },
      "source": [
        "**rjust() Method**\n",
        "\n",
        "Definition and Usage\n",
        "\n",
        "The rjust() method will right align the string, using a specified character(space is default) as the fill character."
      ]
    },
    {
      "cell_type": "code",
      "metadata": {
        "colab": {
          "base_uri": "https://localhost:8080/"
        },
        "id": "G5-PhujlpuF8",
        "outputId": "749fb33a-a6c1-4e8c-a0d3-3601780a5b37"
      },
      "source": [
        "txt = \"Cricket\"\n",
        "\n",
        "x = txt.rjust(10)\n",
        "\n",
        "print(x, \"is my favorite sport.\")"
      ],
      "execution_count": null,
      "outputs": [
        {
          "output_type": "stream",
          "text": [
            "   Cricket is my favorite sport.\n"
          ],
          "name": "stdout"
        }
      ]
    }
  ]
}